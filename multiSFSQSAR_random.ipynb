{
 "cells": [
  {
   "cell_type": "code",
   "execution_count": 2,
   "id": "f1e0d43b",
   "metadata": {},
   "outputs": [],
   "source": [
    "import pandas as pd\n",
    "df=pd.read_csv('4dataSeH_model.csv')"
   ]
  },
  {
   "cell_type": "code",
   "execution_count": 3,
   "id": "bb11e248",
   "metadata": {},
   "outputs": [],
   "source": [
    "from sklearn.linear_model import LinearRegression\n",
    "from testset_prediction import testset_prediction as tsp\n",
    "from sequential_selection import stepwise_selection as sq\n",
    "from loo import loo\n",
    "from rm2 import rm2\n",
    "reg=LinearRegression()\n",
    "\n",
    "def process(tr,trX,Xts,y,yts,seed):\n",
    "    lt=[]\n",
    "    ls=['r2','neg_mean_absolute_error','neg_mean_poisson_deviance','neg_mean_gamma_deviance']\n",
    "    #ls=['r2']\n",
    "    lf=[0,5]\n",
    "    #lf=[0]\n",
    "    l1,l2,l3,l4,l5,l6,l7=[],[],[],[],[],[],[]\n",
    "    for i in ls:\n",
    "        for j in lf:\n",
    "            sqs=sq(trX,y,8,True,True,i,j)\n",
    "            try:\n",
    "               a1,b1=sqs.fit_()\n",
    "               reg.fit(tr[a1],y)\n",
    "               r2tr=reg.score(tr[a1],y)\n",
    "               cv=loo(tr[a1],y,tr)\n",
    "               print(a1)\n",
    "               c,m,l=cv.cal()\n",
    "               r2pr,r2pr2,RMSEP=testpred(Xts[a1],yts,reg,m)\n",
    "               rm2tr,drm2tr=rm2(y,l).fit()\n",
    "               ytspr=pd.DataFrame(reg.predict(Xts[a1]))\n",
    "               rm2ts,drm2ts=rm2(yts,ytspr).fit()\n",
    "            except ValueError:\n",
    "                c=0\n",
    "                r2pr=0\n",
    "                rm2tr=0\n",
    "                rm2ts=0         \n",
    "            #print(c,m,l)\n",
    "            #print(a1)\n",
    "            l1.append(i) \n",
    "            l2.append(j)  \n",
    "            l3.append(c)\n",
    "            l4.append(r2pr)\n",
    "            l6.append(rm2tr)\n",
    "            l7.append(rm2ts)\n",
    "            l5.append(seed)\n",
    "    Dict=dict([('random_seed', l5),('score', l1),('fold', l2),('Q2LOO', l3), ('R2Pred', l4), ('rm2tr', l6), ('rm2ts', l7)])\n",
    "    print(Dict)\n",
    "    table=pd.DataFrame(Dict)\n",
    "    return table\n",
    "    #tbname='Results_table.csv'\n",
    "    #table.to_csv('Results_table.csv',index=False)  "
   ]
  },
  {
   "cell_type": "code",
   "execution_count": 4,
   "id": "4ba67154",
   "metadata": {},
   "outputs": [],
   "source": [
    "from sklearn.feature_selection import VarianceThreshold\n",
    "def correlation(X,cthreshold):\n",
    "    col_corr = set() # Set of all the names of deleted columns\n",
    "    corr_matrix = X.corr()\n",
    "    for i in range(len(corr_matrix.columns)):\n",
    "        for j in range(i):\n",
    "            if (abs(corr_matrix.iloc[i, j]) > float(cthreshold)) and (corr_matrix.columns[j] not in col_corr):\n",
    "                colname = corr_matrix.columns[i] # getting the name of column\n",
    "                col_corr.add(colname)\n",
    "                if colname in X.columns:\n",
    "                   del X[colname] # deleting the column from the dataset\n",
    "    return X   \n",
    "\n",
    "def variance(X,threshold):\n",
    "    sel = VarianceThreshold(threshold=(threshold* (1 - threshold)))\n",
    "    sel_var=sel.fit_transform(X)\n",
    "    X=X[X.columns[sel.get_support(indices=True)]]    \n",
    "    return X\n",
    "\n",
    "\n",
    "def pretreat(X,cthreshold,vthreshold):\n",
    "    X=correlation(X,cthreshold)\n",
    "    X=variance(X,vthreshold)\n",
    "    return X"
   ]
  },
  {
   "cell_type": "code",
   "execution_count": 5,
   "id": "9f38fe35",
   "metadata": {},
   "outputs": [],
   "source": [
    "def testpred(Xts,yts,model,trav):\n",
    "    ytspr=pd.DataFrame(model.predict(Xts))\n",
    "    ytspr.columns=['Pred']\n",
    "    tsdf=pd.concat([yts,pd.DataFrame(ytspr)],axis=1)\n",
    "    tsdf.columns=['Active','Predict']\n",
    "    tsdf['Aver']=trav\n",
    "    tsdf['Aver2']=tsdf['Predict'].mean()\n",
    "    tsdf['diff']=tsdf['Active']-tsdf['Predict']\n",
    "    tsdf['diff2']=tsdf['Active']-tsdf['Aver']\n",
    "    tsdf['diff3']=tsdf['Active']-tsdf['Aver2']\n",
    "    r2pr=1-((tsdf['diff']**2).sum()/(tsdf['diff2']**2).sum())\n",
    "    r2pr2=1-((tsdf['diff']**2).sum()/(tsdf['diff3']**2).sum())\n",
    "    RMSEP=((tsdf['diff']**2).sum()/tsdf.shape[0])**0.5\n",
    "    return r2pr,r2pr2,RMSEP"
   ]
  },
  {
   "cell_type": "code",
   "execution_count": 6,
   "id": "55d475c0",
   "metadata": {},
   "outputs": [],
   "source": [
    "import pandas as pd\n",
    "X=df.iloc[:,2:]\n",
    "Xpt=pretreat(X,0.99,0.0001)"
   ]
  },
  {
   "cell_type": "code",
   "execution_count": 7,
   "id": "27f69e6d",
   "metadata": {},
   "outputs": [
    {
     "name": "stderr",
     "output_type": "stream",
     "text": [
      "C:\\Users\\amitc\\anaconda3\\lib\\site-packages\\statsmodels\\tsa\\tsatools.py:142: FutureWarning: In a future version of pandas all arguments of concat except for the argument 'objs' will be keyword-only\n",
      "  x = pd.concat(x[::order], 1)\n"
     ]
    },
    {
     "name": "stdout",
     "output_type": "stream",
     "text": [
      "['VE2_B(e)', 'ATS1m', 'MATS4s', 'SpMax8_Bh(v)', 'minssCH2', 'CATS2D_05_DL', 'SHED_AA', 'B06[C-S]']\n"
     ]
    },
    {
     "name": "stderr",
     "output_type": "stream",
     "text": [
      "C:\\Users\\amitc\\Documents\\subham_work\\SFS-QSAR-tool-master\\loo.py:32: PerformanceWarning: DataFrame is highly fragmented.  This is usually the result of calling `frame.insert` many times, which has poor performance.  Consider joining all columns at once using pd.concat(axis=1) instead.  To get a de-fragmented frame, use `newframe = frame.copy()`\n",
      "  dataf['Del_Res']=dataf[self.y.columns[0]]-dataf['Pred_loo']\n",
      "C:\\Users\\amitc\\Documents\\subham_work\\SFS-QSAR-tool-master\\loo.py:33: PerformanceWarning: DataFrame is highly fragmented.  This is usually the result of calling `frame.insert` many times, which has poor performance.  Consider joining all columns at once using pd.concat(axis=1) instead.  To get a de-fragmented frame, use `newframe = frame.copy()`\n",
      "  dataf['aver']=dataf[self.y.columns[0]].mean()\n",
      "C:\\Users\\amitc\\Documents\\subham_work\\SFS-QSAR-tool-master\\loo.py:35: PerformanceWarning: DataFrame is highly fragmented.  This is usually the result of calling `frame.insert` many times, which has poor performance.  Consider joining all columns at once using pd.concat(axis=1) instead.  To get a de-fragmented frame, use `newframe = frame.copy()`\n",
      "  dataf['nsum']=dataf[self.y.columns[0]]-dataf['aver']\n",
      "C:\\Users\\amitc\\anaconda3\\lib\\site-packages\\statsmodels\\tsa\\tsatools.py:142: FutureWarning: In a future version of pandas all arguments of concat except for the argument 'objs' will be keyword-only\n",
      "  x = pd.concat(x[::order], 1)\n"
     ]
    },
    {
     "name": "stdout",
     "output_type": "stream",
     "text": [
      "['IAC', 'SpMin5_Bh(p)', 'P_VSA_LogP_2', 'C-014', 'CATS2D_09_AA', 'SHED_AN', 'T(Cl..Cl)', 'F07[N-N]']\n"
     ]
    },
    {
     "name": "stderr",
     "output_type": "stream",
     "text": [
      "C:\\Users\\amitc\\Documents\\subham_work\\SFS-QSAR-tool-master\\loo.py:32: PerformanceWarning: DataFrame is highly fragmented.  This is usually the result of calling `frame.insert` many times, which has poor performance.  Consider joining all columns at once using pd.concat(axis=1) instead.  To get a de-fragmented frame, use `newframe = frame.copy()`\n",
      "  dataf['Del_Res']=dataf[self.y.columns[0]]-dataf['Pred_loo']\n",
      "C:\\Users\\amitc\\Documents\\subham_work\\SFS-QSAR-tool-master\\loo.py:33: PerformanceWarning: DataFrame is highly fragmented.  This is usually the result of calling `frame.insert` many times, which has poor performance.  Consider joining all columns at once using pd.concat(axis=1) instead.  To get a de-fragmented frame, use `newframe = frame.copy()`\n",
      "  dataf['aver']=dataf[self.y.columns[0]].mean()\n",
      "C:\\Users\\amitc\\Documents\\subham_work\\SFS-QSAR-tool-master\\loo.py:35: PerformanceWarning: DataFrame is highly fragmented.  This is usually the result of calling `frame.insert` many times, which has poor performance.  Consider joining all columns at once using pd.concat(axis=1) instead.  To get a de-fragmented frame, use `newframe = frame.copy()`\n",
      "  dataf['nsum']=dataf[self.y.columns[0]]-dataf['aver']\n",
      "C:\\Users\\amitc\\anaconda3\\lib\\site-packages\\statsmodels\\tsa\\tsatools.py:142: FutureWarning: In a future version of pandas all arguments of concat except for the argument 'objs' will be keyword-only\n",
      "  x = pd.concat(x[::order], 1)\n"
     ]
    },
    {
     "name": "stdout",
     "output_type": "stream",
     "text": [
      "['ATS1m', 'P_VSA_charge_1', 'T(Cl..Cl)', 'B03[O-S]', 'B06[C-S]', 'F06[C-F]', 'MDEC-34', 'MDEN-22']\n"
     ]
    },
    {
     "name": "stderr",
     "output_type": "stream",
     "text": [
      "C:\\Users\\amitc\\Documents\\subham_work\\SFS-QSAR-tool-master\\loo.py:32: PerformanceWarning: DataFrame is highly fragmented.  This is usually the result of calling `frame.insert` many times, which has poor performance.  Consider joining all columns at once using pd.concat(axis=1) instead.  To get a de-fragmented frame, use `newframe = frame.copy()`\n",
      "  dataf['Del_Res']=dataf[self.y.columns[0]]-dataf['Pred_loo']\n",
      "C:\\Users\\amitc\\Documents\\subham_work\\SFS-QSAR-tool-master\\loo.py:33: PerformanceWarning: DataFrame is highly fragmented.  This is usually the result of calling `frame.insert` many times, which has poor performance.  Consider joining all columns at once using pd.concat(axis=1) instead.  To get a de-fragmented frame, use `newframe = frame.copy()`\n",
      "  dataf['aver']=dataf[self.y.columns[0]].mean()\n",
      "C:\\Users\\amitc\\Documents\\subham_work\\SFS-QSAR-tool-master\\loo.py:35: PerformanceWarning: DataFrame is highly fragmented.  This is usually the result of calling `frame.insert` many times, which has poor performance.  Consider joining all columns at once using pd.concat(axis=1) instead.  To get a de-fragmented frame, use `newframe = frame.copy()`\n",
      "  dataf['nsum']=dataf[self.y.columns[0]]-dataf['aver']\n",
      "C:\\Users\\amitc\\anaconda3\\lib\\site-packages\\statsmodels\\tsa\\tsatools.py:142: FutureWarning: In a future version of pandas all arguments of concat except for the argument 'objs' will be keyword-only\n",
      "  x = pd.concat(x[::order], 1)\n"
     ]
    },
    {
     "name": "stdout",
     "output_type": "stream",
     "text": [
      "['SPI', 'ATS1m', 'P_VSA_charge_2', 'H-051', 'NssS', 'CATS2D_05_DL', 'B01[F-F]', 'Infective-50']\n"
     ]
    },
    {
     "name": "stderr",
     "output_type": "stream",
     "text": [
      "C:\\Users\\amitc\\Documents\\subham_work\\SFS-QSAR-tool-master\\loo.py:32: PerformanceWarning: DataFrame is highly fragmented.  This is usually the result of calling `frame.insert` many times, which has poor performance.  Consider joining all columns at once using pd.concat(axis=1) instead.  To get a de-fragmented frame, use `newframe = frame.copy()`\n",
      "  dataf['Del_Res']=dataf[self.y.columns[0]]-dataf['Pred_loo']\n",
      "C:\\Users\\amitc\\Documents\\subham_work\\SFS-QSAR-tool-master\\loo.py:33: PerformanceWarning: DataFrame is highly fragmented.  This is usually the result of calling `frame.insert` many times, which has poor performance.  Consider joining all columns at once using pd.concat(axis=1) instead.  To get a de-fragmented frame, use `newframe = frame.copy()`\n",
      "  dataf['aver']=dataf[self.y.columns[0]].mean()\n",
      "C:\\Users\\amitc\\Documents\\subham_work\\SFS-QSAR-tool-master\\loo.py:35: PerformanceWarning: DataFrame is highly fragmented.  This is usually the result of calling `frame.insert` many times, which has poor performance.  Consider joining all columns at once using pd.concat(axis=1) instead.  To get a de-fragmented frame, use `newframe = frame.copy()`\n",
      "  dataf['nsum']=dataf[self.y.columns[0]]-dataf['aver']\n",
      "C:\\Users\\amitc\\anaconda3\\lib\\site-packages\\statsmodels\\tsa\\tsatools.py:142: FutureWarning: In a future version of pandas all arguments of concat except for the argument 'objs' will be keyword-only\n",
      "  x = pd.concat(x[::order], 1)\n"
     ]
    },
    {
     "name": "stdout",
     "output_type": "stream",
     "text": [
      "['ATS1m', 'Eig06_EA(bo)', 'Eig03_AEA(dm)', 'C-025', 'CATS2D_05_DL', 'CATS2D_00_AA', 'T(Cl..Cl)', 'B03[O-S]']\n"
     ]
    },
    {
     "name": "stderr",
     "output_type": "stream",
     "text": [
      "C:\\Users\\amitc\\Documents\\subham_work\\SFS-QSAR-tool-master\\loo.py:32: PerformanceWarning: DataFrame is highly fragmented.  This is usually the result of calling `frame.insert` many times, which has poor performance.  Consider joining all columns at once using pd.concat(axis=1) instead.  To get a de-fragmented frame, use `newframe = frame.copy()`\n",
      "  dataf['Del_Res']=dataf[self.y.columns[0]]-dataf['Pred_loo']\n",
      "C:\\Users\\amitc\\Documents\\subham_work\\SFS-QSAR-tool-master\\loo.py:33: PerformanceWarning: DataFrame is highly fragmented.  This is usually the result of calling `frame.insert` many times, which has poor performance.  Consider joining all columns at once using pd.concat(axis=1) instead.  To get a de-fragmented frame, use `newframe = frame.copy()`\n",
      "  dataf['aver']=dataf[self.y.columns[0]].mean()\n",
      "C:\\Users\\amitc\\Documents\\subham_work\\SFS-QSAR-tool-master\\loo.py:35: PerformanceWarning: DataFrame is highly fragmented.  This is usually the result of calling `frame.insert` many times, which has poor performance.  Consider joining all columns at once using pd.concat(axis=1) instead.  To get a de-fragmented frame, use `newframe = frame.copy()`\n",
      "  dataf['nsum']=dataf[self.y.columns[0]]-dataf['aver']\n",
      "C:\\Users\\amitc\\anaconda3\\lib\\site-packages\\statsmodels\\tsa\\tsatools.py:142: FutureWarning: In a future version of pandas all arguments of concat except for the argument 'objs' will be keyword-only\n",
      "  x = pd.concat(x[::order], 1)\n"
     ]
    },
    {
     "name": "stdout",
     "output_type": "stream",
     "text": [
      "['MCD', 'VE3sign_A', 'ATS1m', 'H-051', 'F-085', 'CATS2D_05_DL', 'CATS2D_00_AA', 'T(Cl..Cl)']\n"
     ]
    },
    {
     "name": "stderr",
     "output_type": "stream",
     "text": [
      "C:\\Users\\amitc\\Documents\\subham_work\\SFS-QSAR-tool-master\\loo.py:32: PerformanceWarning: DataFrame is highly fragmented.  This is usually the result of calling `frame.insert` many times, which has poor performance.  Consider joining all columns at once using pd.concat(axis=1) instead.  To get a de-fragmented frame, use `newframe = frame.copy()`\n",
      "  dataf['Del_Res']=dataf[self.y.columns[0]]-dataf['Pred_loo']\n",
      "C:\\Users\\amitc\\Documents\\subham_work\\SFS-QSAR-tool-master\\loo.py:33: PerformanceWarning: DataFrame is highly fragmented.  This is usually the result of calling `frame.insert` many times, which has poor performance.  Consider joining all columns at once using pd.concat(axis=1) instead.  To get a de-fragmented frame, use `newframe = frame.copy()`\n",
      "  dataf['aver']=dataf[self.y.columns[0]].mean()\n",
      "C:\\Users\\amitc\\Documents\\subham_work\\SFS-QSAR-tool-master\\loo.py:35: PerformanceWarning: DataFrame is highly fragmented.  This is usually the result of calling `frame.insert` many times, which has poor performance.  Consider joining all columns at once using pd.concat(axis=1) instead.  To get a de-fragmented frame, use `newframe = frame.copy()`\n",
      "  dataf['nsum']=dataf[self.y.columns[0]]-dataf['aver']\n",
      "C:\\Users\\amitc\\anaconda3\\lib\\site-packages\\statsmodels\\tsa\\tsatools.py:142: FutureWarning: In a future version of pandas all arguments of concat except for the argument 'objs' will be keyword-only\n",
      "  x = pd.concat(x[::order], 1)\n"
     ]
    },
    {
     "name": "stdout",
     "output_type": "stream",
     "text": [
      "['IVDE', 'ATS1m', 'P_VSA_MR_3', 'SHED_AN', 'B03[O-S]', 'F02[N-N]', 'F09[O-F]', 'Neoplastic-50']\n"
     ]
    },
    {
     "name": "stderr",
     "output_type": "stream",
     "text": [
      "C:\\Users\\amitc\\Documents\\subham_work\\SFS-QSAR-tool-master\\loo.py:32: PerformanceWarning: DataFrame is highly fragmented.  This is usually the result of calling `frame.insert` many times, which has poor performance.  Consider joining all columns at once using pd.concat(axis=1) instead.  To get a de-fragmented frame, use `newframe = frame.copy()`\n",
      "  dataf['Del_Res']=dataf[self.y.columns[0]]-dataf['Pred_loo']\n",
      "C:\\Users\\amitc\\Documents\\subham_work\\SFS-QSAR-tool-master\\loo.py:33: PerformanceWarning: DataFrame is highly fragmented.  This is usually the result of calling `frame.insert` many times, which has poor performance.  Consider joining all columns at once using pd.concat(axis=1) instead.  To get a de-fragmented frame, use `newframe = frame.copy()`\n",
      "  dataf['aver']=dataf[self.y.columns[0]].mean()\n",
      "C:\\Users\\amitc\\Documents\\subham_work\\SFS-QSAR-tool-master\\loo.py:35: PerformanceWarning: DataFrame is highly fragmented.  This is usually the result of calling `frame.insert` many times, which has poor performance.  Consider joining all columns at once using pd.concat(axis=1) instead.  To get a de-fragmented frame, use `newframe = frame.copy()`\n",
      "  dataf['nsum']=dataf[self.y.columns[0]]-dataf['aver']\n",
      "C:\\Users\\amitc\\anaconda3\\lib\\site-packages\\statsmodels\\tsa\\tsatools.py:142: FutureWarning: In a future version of pandas all arguments of concat except for the argument 'objs' will be keyword-only\n",
      "  x = pd.concat(x[::order], 1)\n"
     ]
    },
    {
     "name": "stdout",
     "output_type": "stream",
     "text": [
      "['MCD', 'VE3sign_A', 'ATS1m', 'F-085', 'CATS2D_05_DL', 'CATS2D_00_AA', 'SHED_DL', 'T(Cl..Cl)']\n"
     ]
    },
    {
     "name": "stderr",
     "output_type": "stream",
     "text": [
      "C:\\Users\\amitc\\Documents\\subham_work\\SFS-QSAR-tool-master\\loo.py:32: PerformanceWarning: DataFrame is highly fragmented.  This is usually the result of calling `frame.insert` many times, which has poor performance.  Consider joining all columns at once using pd.concat(axis=1) instead.  To get a de-fragmented frame, use `newframe = frame.copy()`\n",
      "  dataf['Del_Res']=dataf[self.y.columns[0]]-dataf['Pred_loo']\n",
      "C:\\Users\\amitc\\Documents\\subham_work\\SFS-QSAR-tool-master\\loo.py:33: PerformanceWarning: DataFrame is highly fragmented.  This is usually the result of calling `frame.insert` many times, which has poor performance.  Consider joining all columns at once using pd.concat(axis=1) instead.  To get a de-fragmented frame, use `newframe = frame.copy()`\n",
      "  dataf['aver']=dataf[self.y.columns[0]].mean()\n",
      "C:\\Users\\amitc\\Documents\\subham_work\\SFS-QSAR-tool-master\\loo.py:35: PerformanceWarning: DataFrame is highly fragmented.  This is usually the result of calling `frame.insert` many times, which has poor performance.  Consider joining all columns at once using pd.concat(axis=1) instead.  To get a de-fragmented frame, use `newframe = frame.copy()`\n",
      "  dataf['nsum']=dataf[self.y.columns[0]]-dataf['aver']\n"
     ]
    },
    {
     "name": "stdout",
     "output_type": "stream",
     "text": [
      "{'random_seed': [3, 3, 3, 3, 3, 3, 3, 3], 'score': ['r2', 'r2', 'neg_mean_absolute_error', 'neg_mean_absolute_error', 'neg_mean_poisson_deviance', 'neg_mean_poisson_deviance', 'neg_mean_gamma_deviance', 'neg_mean_gamma_deviance'], 'fold': [0, 5, 0, 5, 0, 5, 0, 5], 'Q2LOO': [0.8158992474045834, 0.8034939286740808, 0.797004953381399, 0.7467310153546965, 0.791768803179081, 0.8104180455822313, 0.7766294962185751, 0.8176416286717183], 'R2Pred': [0.2738819210976613, 0.3754273112894636, 0.010215865166026461, 0.19956259686672884, 0.34576869933724597, 0.30043930980088174, 0.035188429415342504, 0.26036350642311445], 'rm2tr': [0.7439880098067004, 0.7274501539455309, 0.7183250108903907, 0.6532985792772956, 0.7116582023025373, 0.7372839726338344, 0.69328211197085, 0.7462492849352472], 'rm2ts': [0.25982035128082104, 0.3126342767278232, 0.2013588176022941, 0.22418723180090744, 0.2754806770845988, 0.2704719728046928, 0.10345929187441011, 0.2396580380800771]}\n"
     ]
    },
    {
     "name": "stderr",
     "output_type": "stream",
     "text": [
      "C:\\Users\\amitc\\anaconda3\\lib\\site-packages\\statsmodels\\tsa\\tsatools.py:142: FutureWarning: In a future version of pandas all arguments of concat except for the argument 'objs' will be keyword-only\n",
      "  x = pd.concat(x[::order], 1)\n"
     ]
    },
    {
     "name": "stdout",
     "output_type": "stream",
     "text": [
      "['DBI', 'VE1_B(e)', 'ATS1m', 'MATS1i', 'GATS4p', 'P_VSA_v_2', 'CATS2D_05_DL', 'B03[O-S]']\n"
     ]
    },
    {
     "name": "stderr",
     "output_type": "stream",
     "text": [
      "C:\\Users\\amitc\\Documents\\subham_work\\SFS-QSAR-tool-master\\loo.py:32: PerformanceWarning: DataFrame is highly fragmented.  This is usually the result of calling `frame.insert` many times, which has poor performance.  Consider joining all columns at once using pd.concat(axis=1) instead.  To get a de-fragmented frame, use `newframe = frame.copy()`\n",
      "  dataf['Del_Res']=dataf[self.y.columns[0]]-dataf['Pred_loo']\n",
      "C:\\Users\\amitc\\Documents\\subham_work\\SFS-QSAR-tool-master\\loo.py:33: PerformanceWarning: DataFrame is highly fragmented.  This is usually the result of calling `frame.insert` many times, which has poor performance.  Consider joining all columns at once using pd.concat(axis=1) instead.  To get a de-fragmented frame, use `newframe = frame.copy()`\n",
      "  dataf['aver']=dataf[self.y.columns[0]].mean()\n",
      "C:\\Users\\amitc\\Documents\\subham_work\\SFS-QSAR-tool-master\\loo.py:35: PerformanceWarning: DataFrame is highly fragmented.  This is usually the result of calling `frame.insert` many times, which has poor performance.  Consider joining all columns at once using pd.concat(axis=1) instead.  To get a de-fragmented frame, use `newframe = frame.copy()`\n",
      "  dataf['nsum']=dataf[self.y.columns[0]]-dataf['aver']\n",
      "C:\\Users\\amitc\\anaconda3\\lib\\site-packages\\statsmodels\\tsa\\tsatools.py:142: FutureWarning: In a future version of pandas all arguments of concat except for the argument 'objs' will be keyword-only\n",
      "  x = pd.concat(x[::order], 1)\n"
     ]
    },
    {
     "name": "stdout",
     "output_type": "stream",
     "text": [
      "['DBI', 'rGes', 'VE1_B(e)', 'ATS1m', 'MATS1i', 'CATS2D_05_DL', 'F02[N-N]', 'F09[O-O]']\n"
     ]
    },
    {
     "name": "stderr",
     "output_type": "stream",
     "text": [
      "C:\\Users\\amitc\\Documents\\subham_work\\SFS-QSAR-tool-master\\loo.py:32: PerformanceWarning: DataFrame is highly fragmented.  This is usually the result of calling `frame.insert` many times, which has poor performance.  Consider joining all columns at once using pd.concat(axis=1) instead.  To get a de-fragmented frame, use `newframe = frame.copy()`\n",
      "  dataf['Del_Res']=dataf[self.y.columns[0]]-dataf['Pred_loo']\n",
      "C:\\Users\\amitc\\Documents\\subham_work\\SFS-QSAR-tool-master\\loo.py:33: PerformanceWarning: DataFrame is highly fragmented.  This is usually the result of calling `frame.insert` many times, which has poor performance.  Consider joining all columns at once using pd.concat(axis=1) instead.  To get a de-fragmented frame, use `newframe = frame.copy()`\n",
      "  dataf['aver']=dataf[self.y.columns[0]].mean()\n",
      "C:\\Users\\amitc\\Documents\\subham_work\\SFS-QSAR-tool-master\\loo.py:35: PerformanceWarning: DataFrame is highly fragmented.  This is usually the result of calling `frame.insert` many times, which has poor performance.  Consider joining all columns at once using pd.concat(axis=1) instead.  To get a de-fragmented frame, use `newframe = frame.copy()`\n",
      "  dataf['nsum']=dataf[self.y.columns[0]]-dataf['aver']\n",
      "C:\\Users\\amitc\\anaconda3\\lib\\site-packages\\statsmodels\\tsa\\tsatools.py:142: FutureWarning: In a future version of pandas all arguments of concat except for the argument 'objs' will be keyword-only\n",
      "  x = pd.concat(x[::order], 1)\n"
     ]
    },
    {
     "name": "stdout",
     "output_type": "stream",
     "text": [
      "['ATS1m', 'ATSC1e', 'MATS2v', 'P_VSA_charge_1', 'F-085', 'B03[O-S]', 'B06[C-S]', 'Neoplastic-50']\n"
     ]
    },
    {
     "name": "stderr",
     "output_type": "stream",
     "text": [
      "C:\\Users\\amitc\\Documents\\subham_work\\SFS-QSAR-tool-master\\loo.py:32: PerformanceWarning: DataFrame is highly fragmented.  This is usually the result of calling `frame.insert` many times, which has poor performance.  Consider joining all columns at once using pd.concat(axis=1) instead.  To get a de-fragmented frame, use `newframe = frame.copy()`\n",
      "  dataf['Del_Res']=dataf[self.y.columns[0]]-dataf['Pred_loo']\n",
      "C:\\Users\\amitc\\Documents\\subham_work\\SFS-QSAR-tool-master\\loo.py:33: PerformanceWarning: DataFrame is highly fragmented.  This is usually the result of calling `frame.insert` many times, which has poor performance.  Consider joining all columns at once using pd.concat(axis=1) instead.  To get a de-fragmented frame, use `newframe = frame.copy()`\n",
      "  dataf['aver']=dataf[self.y.columns[0]].mean()\n",
      "C:\\Users\\amitc\\Documents\\subham_work\\SFS-QSAR-tool-master\\loo.py:35: PerformanceWarning: DataFrame is highly fragmented.  This is usually the result of calling `frame.insert` many times, which has poor performance.  Consider joining all columns at once using pd.concat(axis=1) instead.  To get a de-fragmented frame, use `newframe = frame.copy()`\n",
      "  dataf['nsum']=dataf[self.y.columns[0]]-dataf['aver']\n",
      "C:\\Users\\amitc\\anaconda3\\lib\\site-packages\\statsmodels\\tsa\\tsatools.py:142: FutureWarning: In a future version of pandas all arguments of concat except for the argument 'objs' will be keyword-only\n",
      "  x = pd.concat(x[::order], 1)\n"
     ]
    },
    {
     "name": "stdout",
     "output_type": "stream",
     "text": [
      "['VE1sign_A', 'ATS1m', 'GATS1e', 'SpMax8_Bh(e)', 'SssCH2', 'CATS2D_05_DL', 'B05[S-Cl]', 'Infective-50']\n"
     ]
    },
    {
     "name": "stderr",
     "output_type": "stream",
     "text": [
      "C:\\Users\\amitc\\Documents\\subham_work\\SFS-QSAR-tool-master\\loo.py:32: PerformanceWarning: DataFrame is highly fragmented.  This is usually the result of calling `frame.insert` many times, which has poor performance.  Consider joining all columns at once using pd.concat(axis=1) instead.  To get a de-fragmented frame, use `newframe = frame.copy()`\n",
      "  dataf['Del_Res']=dataf[self.y.columns[0]]-dataf['Pred_loo']\n",
      "C:\\Users\\amitc\\Documents\\subham_work\\SFS-QSAR-tool-master\\loo.py:33: PerformanceWarning: DataFrame is highly fragmented.  This is usually the result of calling `frame.insert` many times, which has poor performance.  Consider joining all columns at once using pd.concat(axis=1) instead.  To get a de-fragmented frame, use `newframe = frame.copy()`\n",
      "  dataf['aver']=dataf[self.y.columns[0]].mean()\n",
      "C:\\Users\\amitc\\Documents\\subham_work\\SFS-QSAR-tool-master\\loo.py:35: PerformanceWarning: DataFrame is highly fragmented.  This is usually the result of calling `frame.insert` many times, which has poor performance.  Consider joining all columns at once using pd.concat(axis=1) instead.  To get a de-fragmented frame, use `newframe = frame.copy()`\n",
      "  dataf['nsum']=dataf[self.y.columns[0]]-dataf['aver']\n",
      "C:\\Users\\amitc\\anaconda3\\lib\\site-packages\\statsmodels\\tsa\\tsatools.py:142: FutureWarning: In a future version of pandas all arguments of concat except for the argument 'objs' will be keyword-only\n",
      "  x = pd.concat(x[::order], 1)\n"
     ]
    },
    {
     "name": "stdout",
     "output_type": "stream",
     "text": [
      "['SIC4', 'ATSC1e', 'MATS2v', 'SpMax8_Bh(v)', 'P_VSA_charge_1', 'CATS2D_04_DL', 'B03[O-S]', 'F07[N-N]']\n"
     ]
    },
    {
     "name": "stderr",
     "output_type": "stream",
     "text": [
      "C:\\Users\\amitc\\Documents\\subham_work\\SFS-QSAR-tool-master\\loo.py:32: PerformanceWarning: DataFrame is highly fragmented.  This is usually the result of calling `frame.insert` many times, which has poor performance.  Consider joining all columns at once using pd.concat(axis=1) instead.  To get a de-fragmented frame, use `newframe = frame.copy()`\n",
      "  dataf['Del_Res']=dataf[self.y.columns[0]]-dataf['Pred_loo']\n",
      "C:\\Users\\amitc\\Documents\\subham_work\\SFS-QSAR-tool-master\\loo.py:33: PerformanceWarning: DataFrame is highly fragmented.  This is usually the result of calling `frame.insert` many times, which has poor performance.  Consider joining all columns at once using pd.concat(axis=1) instead.  To get a de-fragmented frame, use `newframe = frame.copy()`\n",
      "  dataf['aver']=dataf[self.y.columns[0]].mean()\n",
      "C:\\Users\\amitc\\Documents\\subham_work\\SFS-QSAR-tool-master\\loo.py:35: PerformanceWarning: DataFrame is highly fragmented.  This is usually the result of calling `frame.insert` many times, which has poor performance.  Consider joining all columns at once using pd.concat(axis=1) instead.  To get a de-fragmented frame, use `newframe = frame.copy()`\n",
      "  dataf['nsum']=dataf[self.y.columns[0]]-dataf['aver']\n",
      "C:\\Users\\amitc\\anaconda3\\lib\\site-packages\\sklearn\\model_selection\\_validation.py:696: UserWarning: Scoring failed. The score on this train-test partition for these parameters will be set to nan. Details: \n",
      "Traceback (most recent call last):\n",
      "  File \"C:\\Users\\amitc\\anaconda3\\lib\\site-packages\\sklearn\\model_selection\\_validation.py\", line 687, in _score\n",
      "    scores = scorer(estimator, X_test, y_test)\n",
      "  File \"C:\\Users\\amitc\\anaconda3\\lib\\site-packages\\sklearn\\metrics\\_scorer.py\", line 87, in __call__\n",
      "    score = scorer._score(cached_call, estimator,\n",
      "  File \"C:\\Users\\amitc\\anaconda3\\lib\\site-packages\\sklearn\\metrics\\_scorer.py\", line 242, in _score\n",
      "    return self._sign * self._score_func(y_true, y_pred,\n",
      "  File \"C:\\Users\\amitc\\anaconda3\\lib\\site-packages\\sklearn\\utils\\validation.py\", line 63, in inner_f\n",
      "    return f(*args, **kwargs)\n",
      "  File \"C:\\Users\\amitc\\anaconda3\\lib\\site-packages\\sklearn\\metrics\\_regression.py\", line 857, in mean_poisson_deviance\n",
      "    return mean_tweedie_deviance(\n",
      "  File \"C:\\Users\\amitc\\anaconda3\\lib\\site-packages\\sklearn\\utils\\validation.py\", line 63, in inner_f\n",
      "    return f(*args, **kwargs)\n",
      "  File \"C:\\Users\\amitc\\anaconda3\\lib\\site-packages\\sklearn\\metrics\\_regression.py\", line 819, in mean_tweedie_deviance\n",
      "    dev = dist.unit_deviance(y_true, y_pred, check_input=True)\n",
      "  File \"C:\\Users\\amitc\\anaconda3\\lib\\site-packages\\sklearn\\_loss\\glm_distribution.py\", line 290, in unit_deviance\n",
      "    raise ValueError(message + \"non-negative y and strictly \"\n",
      "ValueError: Mean Tweedie deviance error with power=1 can only be used on non-negative y and strictly positive y_pred.\n",
      "\n",
      "  warnings.warn(\n",
      "C:\\Users\\amitc\\anaconda3\\lib\\site-packages\\sklearn\\model_selection\\_validation.py:696: UserWarning: Scoring failed. The score on this train-test partition for these parameters will be set to nan. Details: \n",
      "Traceback (most recent call last):\n",
      "  File \"C:\\Users\\amitc\\anaconda3\\lib\\site-packages\\sklearn\\model_selection\\_validation.py\", line 687, in _score\n",
      "    scores = scorer(estimator, X_test, y_test)\n",
      "  File \"C:\\Users\\amitc\\anaconda3\\lib\\site-packages\\sklearn\\metrics\\_scorer.py\", line 87, in __call__\n",
      "    score = scorer._score(cached_call, estimator,\n",
      "  File \"C:\\Users\\amitc\\anaconda3\\lib\\site-packages\\sklearn\\metrics\\_scorer.py\", line 242, in _score\n",
      "    return self._sign * self._score_func(y_true, y_pred,\n",
      "  File \"C:\\Users\\amitc\\anaconda3\\lib\\site-packages\\sklearn\\utils\\validation.py\", line 63, in inner_f\n",
      "    return f(*args, **kwargs)\n",
      "  File \"C:\\Users\\amitc\\anaconda3\\lib\\site-packages\\sklearn\\metrics\\_regression.py\", line 857, in mean_poisson_deviance\n",
      "    return mean_tweedie_deviance(\n",
      "  File \"C:\\Users\\amitc\\anaconda3\\lib\\site-packages\\sklearn\\utils\\validation.py\", line 63, in inner_f\n",
      "    return f(*args, **kwargs)\n",
      "  File \"C:\\Users\\amitc\\anaconda3\\lib\\site-packages\\sklearn\\metrics\\_regression.py\", line 819, in mean_tweedie_deviance\n",
      "    dev = dist.unit_deviance(y_true, y_pred, check_input=True)\n",
      "  File \"C:\\Users\\amitc\\anaconda3\\lib\\site-packages\\sklearn\\_loss\\glm_distribution.py\", line 290, in unit_deviance\n",
      "    raise ValueError(message + \"non-negative y and strictly \"\n",
      "ValueError: Mean Tweedie deviance error with power=1 can only be used on non-negative y and strictly positive y_pred.\n",
      "\n",
      "  warnings.warn(\n",
      "C:\\Users\\amitc\\anaconda3\\lib\\site-packages\\statsmodels\\tsa\\tsatools.py:142: FutureWarning: In a future version of pandas all arguments of concat except for the argument 'objs' will be keyword-only\n",
      "  x = pd.concat(x[::order], 1)\n"
     ]
    },
    {
     "name": "stdout",
     "output_type": "stream",
     "text": [
      "['VE1_B(e)', 'MATS1i', 'SpMax8_Bh(v)', 'SM05_AEA(dm)', 'SM14_AEA(dm)', 'Eig12_AEA(bo)', 'CATS2D_05_DL', 'B06[O-Cl]']\n"
     ]
    },
    {
     "name": "stderr",
     "output_type": "stream",
     "text": [
      "C:\\Users\\amitc\\Documents\\subham_work\\SFS-QSAR-tool-master\\loo.py:32: PerformanceWarning: DataFrame is highly fragmented.  This is usually the result of calling `frame.insert` many times, which has poor performance.  Consider joining all columns at once using pd.concat(axis=1) instead.  To get a de-fragmented frame, use `newframe = frame.copy()`\n",
      "  dataf['Del_Res']=dataf[self.y.columns[0]]-dataf['Pred_loo']\n",
      "C:\\Users\\amitc\\Documents\\subham_work\\SFS-QSAR-tool-master\\loo.py:33: PerformanceWarning: DataFrame is highly fragmented.  This is usually the result of calling `frame.insert` many times, which has poor performance.  Consider joining all columns at once using pd.concat(axis=1) instead.  To get a de-fragmented frame, use `newframe = frame.copy()`\n",
      "  dataf['aver']=dataf[self.y.columns[0]].mean()\n",
      "C:\\Users\\amitc\\Documents\\subham_work\\SFS-QSAR-tool-master\\loo.py:35: PerformanceWarning: DataFrame is highly fragmented.  This is usually the result of calling `frame.insert` many times, which has poor performance.  Consider joining all columns at once using pd.concat(axis=1) instead.  To get a de-fragmented frame, use `newframe = frame.copy()`\n",
      "  dataf['nsum']=dataf[self.y.columns[0]]-dataf['aver']\n",
      "C:\\Users\\amitc\\anaconda3\\lib\\site-packages\\statsmodels\\tsa\\tsatools.py:142: FutureWarning: In a future version of pandas all arguments of concat except for the argument 'objs' will be keyword-only\n",
      "  x = pd.concat(x[::order], 1)\n"
     ]
    },
    {
     "name": "stdout",
     "output_type": "stream",
     "text": [
      "['ATSC1e', 'MATS2v', 'SpMax8_Bh(v)', 'P_VSA_charge_1', 'CATS2D_04_DL', 'B03[O-S]', 'B05[O-Cl]', 'F07[N-N]']\n"
     ]
    },
    {
     "name": "stderr",
     "output_type": "stream",
     "text": [
      "C:\\Users\\amitc\\Documents\\subham_work\\SFS-QSAR-tool-master\\loo.py:32: PerformanceWarning: DataFrame is highly fragmented.  This is usually the result of calling `frame.insert` many times, which has poor performance.  Consider joining all columns at once using pd.concat(axis=1) instead.  To get a de-fragmented frame, use `newframe = frame.copy()`\n",
      "  dataf['Del_Res']=dataf[self.y.columns[0]]-dataf['Pred_loo']\n",
      "C:\\Users\\amitc\\Documents\\subham_work\\SFS-QSAR-tool-master\\loo.py:33: PerformanceWarning: DataFrame is highly fragmented.  This is usually the result of calling `frame.insert` many times, which has poor performance.  Consider joining all columns at once using pd.concat(axis=1) instead.  To get a de-fragmented frame, use `newframe = frame.copy()`\n",
      "  dataf['aver']=dataf[self.y.columns[0]].mean()\n",
      "C:\\Users\\amitc\\Documents\\subham_work\\SFS-QSAR-tool-master\\loo.py:35: PerformanceWarning: DataFrame is highly fragmented.  This is usually the result of calling `frame.insert` many times, which has poor performance.  Consider joining all columns at once using pd.concat(axis=1) instead.  To get a de-fragmented frame, use `newframe = frame.copy()`\n",
      "  dataf['nsum']=dataf[self.y.columns[0]]-dataf['aver']\n",
      "C:\\Users\\amitc\\anaconda3\\lib\\site-packages\\statsmodels\\tsa\\tsatools.py:142: FutureWarning: In a future version of pandas all arguments of concat except for the argument 'objs' will be keyword-only\n",
      "  x = pd.concat(x[::order], 1)\n"
     ]
    },
    {
     "name": "stdout",
     "output_type": "stream",
     "text": [
      "['VE1sign_Dt', 'ATS1m', 'ATSC6e', 'MATS6m', 'MATS2v', 'P_VSA_charge_1', 'B10[C-Cl]', 'CMC-50']\n"
     ]
    },
    {
     "name": "stderr",
     "output_type": "stream",
     "text": [
      "C:\\Users\\amitc\\Documents\\subham_work\\SFS-QSAR-tool-master\\loo.py:32: PerformanceWarning: DataFrame is highly fragmented.  This is usually the result of calling `frame.insert` many times, which has poor performance.  Consider joining all columns at once using pd.concat(axis=1) instead.  To get a de-fragmented frame, use `newframe = frame.copy()`\n",
      "  dataf['Del_Res']=dataf[self.y.columns[0]]-dataf['Pred_loo']\n",
      "C:\\Users\\amitc\\Documents\\subham_work\\SFS-QSAR-tool-master\\loo.py:33: PerformanceWarning: DataFrame is highly fragmented.  This is usually the result of calling `frame.insert` many times, which has poor performance.  Consider joining all columns at once using pd.concat(axis=1) instead.  To get a de-fragmented frame, use `newframe = frame.copy()`\n",
      "  dataf['aver']=dataf[self.y.columns[0]].mean()\n",
      "C:\\Users\\amitc\\Documents\\subham_work\\SFS-QSAR-tool-master\\loo.py:35: PerformanceWarning: DataFrame is highly fragmented.  This is usually the result of calling `frame.insert` many times, which has poor performance.  Consider joining all columns at once using pd.concat(axis=1) instead.  To get a de-fragmented frame, use `newframe = frame.copy()`\n",
      "  dataf['nsum']=dataf[self.y.columns[0]]-dataf['aver']\n"
     ]
    },
    {
     "name": "stdout",
     "output_type": "stream",
     "text": [
      "{'random_seed': [20, 20, 20, 20, 20, 20, 20, 20], 'score': ['r2', 'r2', 'neg_mean_absolute_error', 'neg_mean_absolute_error', 'neg_mean_poisson_deviance', 'neg_mean_poisson_deviance', 'neg_mean_gamma_deviance', 'neg_mean_gamma_deviance'], 'fold': [0, 5, 0, 5, 0, 5, 0, 5], 'Q2LOO': [0.7685271545661827, 0.7935016256226761, 0.7471915279356905, 0.7814710907032953, 0.80684774423722, 0.8346573150680436, 0.8053102637245846, 0.7714476380673359], 'R2Pred': [0.4902128075491493, 0.6837951239876616, 0.5507848633708792, 0.5799893020754564, 0.5309077423341756, 0.5776013148770408, 0.49833793113543656, 0.538808947806485], 'rm2tr': [0.679985748314324, 0.7131468041147699, 0.6530162511326869, 0.6976778908777603, 0.7309363098843791, 0.7688306802087712, 0.7287896404142619, 0.684948479923897], 'rm2ts': [0.32737164605412306, 0.5074780990582307, 0.4308359189568475, 0.3881750098379379, 0.394198710798616, 0.3760167048372656, 0.37471109444928247, 0.4041801469602043]}\n"
     ]
    },
    {
     "name": "stderr",
     "output_type": "stream",
     "text": [
      "C:\\Users\\amitc\\anaconda3\\lib\\site-packages\\statsmodels\\tsa\\tsatools.py:142: FutureWarning: In a future version of pandas all arguments of concat except for the argument 'objs' will be keyword-only\n",
      "  x = pd.concat(x[::order], 1)\n"
     ]
    },
    {
     "name": "stdout",
     "output_type": "stream",
     "text": [
      "['PJI2', 'VE2_D/Dt', 'ATS1m', 'Eig06_AEA(bo)', 'minssCH2', 'CATS2D_05_DL', 'CATS2D_00_AA', 'F06[C-S]']\n"
     ]
    },
    {
     "name": "stderr",
     "output_type": "stream",
     "text": [
      "C:\\Users\\amitc\\Documents\\subham_work\\SFS-QSAR-tool-master\\loo.py:32: PerformanceWarning: DataFrame is highly fragmented.  This is usually the result of calling `frame.insert` many times, which has poor performance.  Consider joining all columns at once using pd.concat(axis=1) instead.  To get a de-fragmented frame, use `newframe = frame.copy()`\n",
      "  dataf['Del_Res']=dataf[self.y.columns[0]]-dataf['Pred_loo']\n",
      "C:\\Users\\amitc\\Documents\\subham_work\\SFS-QSAR-tool-master\\loo.py:33: PerformanceWarning: DataFrame is highly fragmented.  This is usually the result of calling `frame.insert` many times, which has poor performance.  Consider joining all columns at once using pd.concat(axis=1) instead.  To get a de-fragmented frame, use `newframe = frame.copy()`\n",
      "  dataf['aver']=dataf[self.y.columns[0]].mean()\n",
      "C:\\Users\\amitc\\Documents\\subham_work\\SFS-QSAR-tool-master\\loo.py:35: PerformanceWarning: DataFrame is highly fragmented.  This is usually the result of calling `frame.insert` many times, which has poor performance.  Consider joining all columns at once using pd.concat(axis=1) instead.  To get a de-fragmented frame, use `newframe = frame.copy()`\n",
      "  dataf['nsum']=dataf[self.y.columns[0]]-dataf['aver']\n",
      "C:\\Users\\amitc\\anaconda3\\lib\\site-packages\\statsmodels\\tsa\\tsatools.py:142: FutureWarning: In a future version of pandas all arguments of concat except for the argument 'objs' will be keyword-only\n",
      "  x = pd.concat(x[::order], 1)\n"
     ]
    },
    {
     "name": "stdout",
     "output_type": "stream",
     "text": [
      "['ATS1m', 'GATS1i', 'P_VSA_ppp_cyc', 'P_VSA_charge_9', 'C-014', 'CATS2D_09_DA', 'CATS2D_05_DL', 'B03[Cl-Cl]']\n"
     ]
    },
    {
     "name": "stderr",
     "output_type": "stream",
     "text": [
      "C:\\Users\\amitc\\Documents\\subham_work\\SFS-QSAR-tool-master\\loo.py:32: PerformanceWarning: DataFrame is highly fragmented.  This is usually the result of calling `frame.insert` many times, which has poor performance.  Consider joining all columns at once using pd.concat(axis=1) instead.  To get a de-fragmented frame, use `newframe = frame.copy()`\n",
      "  dataf['Del_Res']=dataf[self.y.columns[0]]-dataf['Pred_loo']\n",
      "C:\\Users\\amitc\\Documents\\subham_work\\SFS-QSAR-tool-master\\loo.py:33: PerformanceWarning: DataFrame is highly fragmented.  This is usually the result of calling `frame.insert` many times, which has poor performance.  Consider joining all columns at once using pd.concat(axis=1) instead.  To get a de-fragmented frame, use `newframe = frame.copy()`\n",
      "  dataf['aver']=dataf[self.y.columns[0]].mean()\n",
      "C:\\Users\\amitc\\Documents\\subham_work\\SFS-QSAR-tool-master\\loo.py:35: PerformanceWarning: DataFrame is highly fragmented.  This is usually the result of calling `frame.insert` many times, which has poor performance.  Consider joining all columns at once using pd.concat(axis=1) instead.  To get a de-fragmented frame, use `newframe = frame.copy()`\n",
      "  dataf['nsum']=dataf[self.y.columns[0]]-dataf['aver']\n",
      "C:\\Users\\amitc\\anaconda3\\lib\\site-packages\\statsmodels\\tsa\\tsatools.py:142: FutureWarning: In a future version of pandas all arguments of concat except for the argument 'objs' will be keyword-only\n",
      "  x = pd.concat(x[::order], 1)\n"
     ]
    },
    {
     "name": "stdout",
     "output_type": "stream",
     "text": [
      "['VE1sign_Dz(p)', 'ATS1m', 'Eig06_AEA(bo)', 'mindsCH', 'CATS2D_05_DL', 'CATS2D_03_AA', 'B03[O-S]', 'MDEC-34']\n"
     ]
    },
    {
     "name": "stderr",
     "output_type": "stream",
     "text": [
      "C:\\Users\\amitc\\Documents\\subham_work\\SFS-QSAR-tool-master\\loo.py:32: PerformanceWarning: DataFrame is highly fragmented.  This is usually the result of calling `frame.insert` many times, which has poor performance.  Consider joining all columns at once using pd.concat(axis=1) instead.  To get a de-fragmented frame, use `newframe = frame.copy()`\n",
      "  dataf['Del_Res']=dataf[self.y.columns[0]]-dataf['Pred_loo']\n",
      "C:\\Users\\amitc\\Documents\\subham_work\\SFS-QSAR-tool-master\\loo.py:33: PerformanceWarning: DataFrame is highly fragmented.  This is usually the result of calling `frame.insert` many times, which has poor performance.  Consider joining all columns at once using pd.concat(axis=1) instead.  To get a de-fragmented frame, use `newframe = frame.copy()`\n",
      "  dataf['aver']=dataf[self.y.columns[0]].mean()\n",
      "C:\\Users\\amitc\\Documents\\subham_work\\SFS-QSAR-tool-master\\loo.py:35: PerformanceWarning: DataFrame is highly fragmented.  This is usually the result of calling `frame.insert` many times, which has poor performance.  Consider joining all columns at once using pd.concat(axis=1) instead.  To get a de-fragmented frame, use `newframe = frame.copy()`\n",
      "  dataf['nsum']=dataf[self.y.columns[0]]-dataf['aver']\n",
      "C:\\Users\\amitc\\anaconda3\\lib\\site-packages\\statsmodels\\tsa\\tsatools.py:142: FutureWarning: In a future version of pandas all arguments of concat except for the argument 'objs' will be keyword-only\n",
      "  x = pd.concat(x[::order], 1)\n"
     ]
    },
    {
     "name": "stdout",
     "output_type": "stream",
     "text": [
      "['VE1sign_Dz(p)', 'ATS1m', 'Eig06_AEA(bo)', 'CATS2D_05_DL', 'CATS2D_07_LL', 'CMC-80', 'MDEC-34', 'MDEN-22']\n"
     ]
    },
    {
     "name": "stderr",
     "output_type": "stream",
     "text": [
      "C:\\Users\\amitc\\Documents\\subham_work\\SFS-QSAR-tool-master\\loo.py:32: PerformanceWarning: DataFrame is highly fragmented.  This is usually the result of calling `frame.insert` many times, which has poor performance.  Consider joining all columns at once using pd.concat(axis=1) instead.  To get a de-fragmented frame, use `newframe = frame.copy()`\n",
      "  dataf['Del_Res']=dataf[self.y.columns[0]]-dataf['Pred_loo']\n",
      "C:\\Users\\amitc\\Documents\\subham_work\\SFS-QSAR-tool-master\\loo.py:33: PerformanceWarning: DataFrame is highly fragmented.  This is usually the result of calling `frame.insert` many times, which has poor performance.  Consider joining all columns at once using pd.concat(axis=1) instead.  To get a de-fragmented frame, use `newframe = frame.copy()`\n",
      "  dataf['aver']=dataf[self.y.columns[0]].mean()\n",
      "C:\\Users\\amitc\\Documents\\subham_work\\SFS-QSAR-tool-master\\loo.py:35: PerformanceWarning: DataFrame is highly fragmented.  This is usually the result of calling `frame.insert` many times, which has poor performance.  Consider joining all columns at once using pd.concat(axis=1) instead.  To get a de-fragmented frame, use `newframe = frame.copy()`\n",
      "  dataf['nsum']=dataf[self.y.columns[0]]-dataf['aver']\n",
      "C:\\Users\\amitc\\anaconda3\\lib\\site-packages\\statsmodels\\tsa\\tsatools.py:142: FutureWarning: In a future version of pandas all arguments of concat except for the argument 'objs' will be keyword-only\n",
      "  x = pd.concat(x[::order], 1)\n"
     ]
    },
    {
     "name": "stdout",
     "output_type": "stream",
     "text": [
      "['PJI2', 'ATS1m', 'minssCH2', 'CATS2D_09_DD', 'CATS2D_05_DL', 'CATS2D_00_AA', 'F06[C-S]', 'CMC-50']\n"
     ]
    },
    {
     "name": "stderr",
     "output_type": "stream",
     "text": [
      "C:\\Users\\amitc\\Documents\\subham_work\\SFS-QSAR-tool-master\\loo.py:32: PerformanceWarning: DataFrame is highly fragmented.  This is usually the result of calling `frame.insert` many times, which has poor performance.  Consider joining all columns at once using pd.concat(axis=1) instead.  To get a de-fragmented frame, use `newframe = frame.copy()`\n",
      "  dataf['Del_Res']=dataf[self.y.columns[0]]-dataf['Pred_loo']\n",
      "C:\\Users\\amitc\\Documents\\subham_work\\SFS-QSAR-tool-master\\loo.py:33: PerformanceWarning: DataFrame is highly fragmented.  This is usually the result of calling `frame.insert` many times, which has poor performance.  Consider joining all columns at once using pd.concat(axis=1) instead.  To get a de-fragmented frame, use `newframe = frame.copy()`\n",
      "  dataf['aver']=dataf[self.y.columns[0]].mean()\n",
      "C:\\Users\\amitc\\Documents\\subham_work\\SFS-QSAR-tool-master\\loo.py:35: PerformanceWarning: DataFrame is highly fragmented.  This is usually the result of calling `frame.insert` many times, which has poor performance.  Consider joining all columns at once using pd.concat(axis=1) instead.  To get a de-fragmented frame, use `newframe = frame.copy()`\n",
      "  dataf['nsum']=dataf[self.y.columns[0]]-dataf['aver']\n",
      "C:\\Users\\amitc\\anaconda3\\lib\\site-packages\\statsmodels\\tsa\\tsatools.py:142: FutureWarning: In a future version of pandas all arguments of concat except for the argument 'objs' will be keyword-only\n",
      "  x = pd.concat(x[::order], 1)\n"
     ]
    },
    {
     "name": "stdout",
     "output_type": "stream",
     "text": [
      "['ATS1m', 'GATS2i', 'SM02_AEA(dm)', 'SM02_AEA(ri)', 'Eig12_AEA(ed)', 'C-025', 'CATS2D_09_DA', 'CATS2D_05_DL']\n"
     ]
    },
    {
     "name": "stderr",
     "output_type": "stream",
     "text": [
      "C:\\Users\\amitc\\Documents\\subham_work\\SFS-QSAR-tool-master\\loo.py:32: PerformanceWarning: DataFrame is highly fragmented.  This is usually the result of calling `frame.insert` many times, which has poor performance.  Consider joining all columns at once using pd.concat(axis=1) instead.  To get a de-fragmented frame, use `newframe = frame.copy()`\n",
      "  dataf['Del_Res']=dataf[self.y.columns[0]]-dataf['Pred_loo']\n",
      "C:\\Users\\amitc\\Documents\\subham_work\\SFS-QSAR-tool-master\\loo.py:33: PerformanceWarning: DataFrame is highly fragmented.  This is usually the result of calling `frame.insert` many times, which has poor performance.  Consider joining all columns at once using pd.concat(axis=1) instead.  To get a de-fragmented frame, use `newframe = frame.copy()`\n",
      "  dataf['aver']=dataf[self.y.columns[0]].mean()\n",
      "C:\\Users\\amitc\\Documents\\subham_work\\SFS-QSAR-tool-master\\loo.py:35: PerformanceWarning: DataFrame is highly fragmented.  This is usually the result of calling `frame.insert` many times, which has poor performance.  Consider joining all columns at once using pd.concat(axis=1) instead.  To get a de-fragmented frame, use `newframe = frame.copy()`\n",
      "  dataf['nsum']=dataf[self.y.columns[0]]-dataf['aver']\n",
      "C:\\Users\\amitc\\anaconda3\\lib\\site-packages\\statsmodels\\tsa\\tsatools.py:142: FutureWarning: In a future version of pandas all arguments of concat except for the argument 'objs' will be keyword-only\n",
      "  x = pd.concat(x[::order], 1)\n"
     ]
    },
    {
     "name": "stdout",
     "output_type": "stream",
     "text": [
      "['Ho_D/Dt', 'ATS1m', 'Eig06_EA(bo)', 'CATS2D_05_DL', 'CATS2D_00_AA', 'B03[O-S]', 'F09[N-O]', 'MDEN-33']\n"
     ]
    },
    {
     "name": "stderr",
     "output_type": "stream",
     "text": [
      "C:\\Users\\amitc\\Documents\\subham_work\\SFS-QSAR-tool-master\\loo.py:32: PerformanceWarning: DataFrame is highly fragmented.  This is usually the result of calling `frame.insert` many times, which has poor performance.  Consider joining all columns at once using pd.concat(axis=1) instead.  To get a de-fragmented frame, use `newframe = frame.copy()`\n",
      "  dataf['Del_Res']=dataf[self.y.columns[0]]-dataf['Pred_loo']\n",
      "C:\\Users\\amitc\\Documents\\subham_work\\SFS-QSAR-tool-master\\loo.py:33: PerformanceWarning: DataFrame is highly fragmented.  This is usually the result of calling `frame.insert` many times, which has poor performance.  Consider joining all columns at once using pd.concat(axis=1) instead.  To get a de-fragmented frame, use `newframe = frame.copy()`\n",
      "  dataf['aver']=dataf[self.y.columns[0]].mean()\n",
      "C:\\Users\\amitc\\Documents\\subham_work\\SFS-QSAR-tool-master\\loo.py:35: PerformanceWarning: DataFrame is highly fragmented.  This is usually the result of calling `frame.insert` many times, which has poor performance.  Consider joining all columns at once using pd.concat(axis=1) instead.  To get a de-fragmented frame, use `newframe = frame.copy()`\n",
      "  dataf['nsum']=dataf[self.y.columns[0]]-dataf['aver']\n",
      "C:\\Users\\amitc\\anaconda3\\lib\\site-packages\\statsmodels\\tsa\\tsatools.py:142: FutureWarning: In a future version of pandas all arguments of concat except for the argument 'objs' will be keyword-only\n",
      "  x = pd.concat(x[::order], 1)\n"
     ]
    },
    {
     "name": "stdout",
     "output_type": "stream",
     "text": [
      "['ATS1m', 'MATS2i', 'GATS2i', 'SpMin7_Bh(e)', 'Eig06_EA(bo)', 'CATS2D_05_DL', 'B05[S-Cl]', 'MDEC-34']\n",
      "{'random_seed': [42, 42, 42, 42, 42, 42, 42, 42], 'score': ['r2', 'r2', 'neg_mean_absolute_error', 'neg_mean_absolute_error', 'neg_mean_poisson_deviance', 'neg_mean_poisson_deviance', 'neg_mean_gamma_deviance', 'neg_mean_gamma_deviance'], 'fold': [0, 5, 0, 5, 0, 5, 0, 5], 'Q2LOO': [0.7576182321876062, 0.7751261172779991, 0.7378783689437368, 0.7402372305042726, 0.7564548619175453, 0.7629895046427984, 0.7479211041733324, 0.7359566726746893], 'R2Pred': [0.7527798210383531, 0.7847126574548727, 0.6780598097403294, 0.6967038141346803, 0.7365621852979252, 0.6833533246125878, 0.6721544204614247, 0.7627234396502427], 'rm2tr': [0.6678698002399808, 0.690069920488863, 0.6417493598756399, 0.6445291891025198, 0.6668692858891385, 0.6745001268196883, 0.6548268727209827, 0.6397012639940701], 'rm2ts': [0.6457501948615849, 0.7022997478274842, 0.5700286870867378, 0.5729169870059672, 0.6230247285323539, 0.5832835655293928, 0.5601796690218551, 0.6604236036813383]}\n"
     ]
    },
    {
     "name": "stderr",
     "output_type": "stream",
     "text": [
      "C:\\Users\\amitc\\Documents\\subham_work\\SFS-QSAR-tool-master\\loo.py:32: PerformanceWarning: DataFrame is highly fragmented.  This is usually the result of calling `frame.insert` many times, which has poor performance.  Consider joining all columns at once using pd.concat(axis=1) instead.  To get a de-fragmented frame, use `newframe = frame.copy()`\n",
      "  dataf['Del_Res']=dataf[self.y.columns[0]]-dataf['Pred_loo']\n",
      "C:\\Users\\amitc\\Documents\\subham_work\\SFS-QSAR-tool-master\\loo.py:33: PerformanceWarning: DataFrame is highly fragmented.  This is usually the result of calling `frame.insert` many times, which has poor performance.  Consider joining all columns at once using pd.concat(axis=1) instead.  To get a de-fragmented frame, use `newframe = frame.copy()`\n",
      "  dataf['aver']=dataf[self.y.columns[0]].mean()\n",
      "C:\\Users\\amitc\\Documents\\subham_work\\SFS-QSAR-tool-master\\loo.py:35: PerformanceWarning: DataFrame is highly fragmented.  This is usually the result of calling `frame.insert` many times, which has poor performance.  Consider joining all columns at once using pd.concat(axis=1) instead.  To get a de-fragmented frame, use `newframe = frame.copy()`\n",
      "  dataf['nsum']=dataf[self.y.columns[0]]-dataf['aver']\n"
     ]
    }
   ],
   "source": [
    "from sklearn.model_selection import train_test_split\n",
    "import pandas as pd\n",
    "#perc=secondEntryTabOne.get()\n",
    "#df=pd.read_csv('merged2_pparg_model2.csv')\n",
    "#X=df.iloc[:,1:]\n",
    "#pt=pd.read_csv('pt_train_0.99_0.0001.csv')\n",
    "Xpt2=Xpt.columns.tolist()[1:]\n",
    "perc=0.2\n",
    "nls=[]\n",
    "ml=[3,20,42]\n",
    "#ml=[20]\n",
    "for rs in ml:\n",
    "    #perc=int(secondEntryTabOne.get())\n",
    "    #pc=int(100/perc)\n",
    "    #sp=int(secondEntryTabOne_x.get())\n",
    "    #filem=df.sort_values(df.iloc[:,1:2].columns[0],ascending=False)\n",
    "    #ts=filem.iloc[(sp-1)::pc, :]\n",
    "    #tr=filem.drop(ts.index.values)\n",
    "    #tr.to_csv('tr.csv', index=False)\n",
    "    a,b= train_test_split(df,test_size=perc, random_state=rs)\n",
    "    tr=pd.DataFrame(a)\n",
    "    ts=pd.DataFrame(b)\n",
    "    tr=tr.reset_index().drop('index', axis=1)\n",
    "    ts=ts.reset_index().drop('index', axis=1)\n",
    "    trX=tr[Xpt2]\n",
    "    Xts=ts[Xpt2]\n",
    "    #print(trX.shape)\n",
    "    y=tr.iloc[:,1:2]\n",
    "    tr1=pd.concat([tr.iloc[:,0:2],trX],axis=1)\n",
    "    ts1=pd.concat([ts.iloc[:,0:2],Xts],axis=1)\n",
    "    #tr1.to_csv('tr.csv', index=False)\n",
    "    #ts1.to_csv('ts.csv', index=False)\n",
    "    yts=ts.iloc[:,1:2] \n",
    "    table=process(tr,trX,Xts,y,yts,rs)\n",
    "    nls.append(table)\n",
    "    fd=pd.concat(nls, axis=0)"
   ]
  },
  {
   "cell_type": "code",
   "execution_count": 8,
   "id": "cbe46324",
   "metadata": {},
   "outputs": [],
   "source": [
    "fd['Average']=fd[[\"Q2LOO\",\"R2Pred\"]].mean(axis=1)\n",
    "fd=fd.sort_values('Average', ascending=False)"
   ]
  },
  {
   "cell_type": "code",
   "execution_count": 9,
   "id": "9b45eb59",
   "metadata": {},
   "outputs": [
    {
     "data": {
      "text/html": [
       "<div>\n",
       "<style scoped>\n",
       "    .dataframe tbody tr th:only-of-type {\n",
       "        vertical-align: middle;\n",
       "    }\n",
       "\n",
       "    .dataframe tbody tr th {\n",
       "        vertical-align: top;\n",
       "    }\n",
       "\n",
       "    .dataframe thead th {\n",
       "        text-align: right;\n",
       "    }\n",
       "</style>\n",
       "<table border=\"1\" class=\"dataframe\">\n",
       "  <thead>\n",
       "    <tr style=\"text-align: right;\">\n",
       "      <th></th>\n",
       "      <th>random_seed</th>\n",
       "      <th>score</th>\n",
       "      <th>fold</th>\n",
       "      <th>Q2LOO</th>\n",
       "      <th>R2Pred</th>\n",
       "      <th>rm2tr</th>\n",
       "      <th>rm2ts</th>\n",
       "      <th>Average</th>\n",
       "    </tr>\n",
       "  </thead>\n",
       "  <tbody>\n",
       "    <tr>\n",
       "      <th>1</th>\n",
       "      <td>42</td>\n",
       "      <td>r2</td>\n",
       "      <td>5</td>\n",
       "      <td>0.775126</td>\n",
       "      <td>0.784713</td>\n",
       "      <td>0.690070</td>\n",
       "      <td>0.702300</td>\n",
       "      <td>0.779919</td>\n",
       "    </tr>\n",
       "    <tr>\n",
       "      <th>0</th>\n",
       "      <td>42</td>\n",
       "      <td>r2</td>\n",
       "      <td>0</td>\n",
       "      <td>0.757618</td>\n",
       "      <td>0.752780</td>\n",
       "      <td>0.667870</td>\n",
       "      <td>0.645750</td>\n",
       "      <td>0.755199</td>\n",
       "    </tr>\n",
       "    <tr>\n",
       "      <th>7</th>\n",
       "      <td>42</td>\n",
       "      <td>neg_mean_gamma_deviance</td>\n",
       "      <td>5</td>\n",
       "      <td>0.735957</td>\n",
       "      <td>0.762723</td>\n",
       "      <td>0.639701</td>\n",
       "      <td>0.660424</td>\n",
       "      <td>0.749340</td>\n",
       "    </tr>\n",
       "    <tr>\n",
       "      <th>4</th>\n",
       "      <td>42</td>\n",
       "      <td>neg_mean_poisson_deviance</td>\n",
       "      <td>0</td>\n",
       "      <td>0.756455</td>\n",
       "      <td>0.736562</td>\n",
       "      <td>0.666869</td>\n",
       "      <td>0.623025</td>\n",
       "      <td>0.746509</td>\n",
       "    </tr>\n",
       "    <tr>\n",
       "      <th>1</th>\n",
       "      <td>20</td>\n",
       "      <td>r2</td>\n",
       "      <td>5</td>\n",
       "      <td>0.793502</td>\n",
       "      <td>0.683795</td>\n",
       "      <td>0.713147</td>\n",
       "      <td>0.507478</td>\n",
       "      <td>0.738648</td>\n",
       "    </tr>\n",
       "    <tr>\n",
       "      <th>5</th>\n",
       "      <td>42</td>\n",
       "      <td>neg_mean_poisson_deviance</td>\n",
       "      <td>5</td>\n",
       "      <td>0.762990</td>\n",
       "      <td>0.683353</td>\n",
       "      <td>0.674500</td>\n",
       "      <td>0.583284</td>\n",
       "      <td>0.723171</td>\n",
       "    </tr>\n",
       "    <tr>\n",
       "      <th>3</th>\n",
       "      <td>42</td>\n",
       "      <td>neg_mean_absolute_error</td>\n",
       "      <td>5</td>\n",
       "      <td>0.740237</td>\n",
       "      <td>0.696704</td>\n",
       "      <td>0.644529</td>\n",
       "      <td>0.572917</td>\n",
       "      <td>0.718471</td>\n",
       "    </tr>\n",
       "    <tr>\n",
       "      <th>6</th>\n",
       "      <td>42</td>\n",
       "      <td>neg_mean_gamma_deviance</td>\n",
       "      <td>0</td>\n",
       "      <td>0.747921</td>\n",
       "      <td>0.672154</td>\n",
       "      <td>0.654827</td>\n",
       "      <td>0.560180</td>\n",
       "      <td>0.710038</td>\n",
       "    </tr>\n",
       "    <tr>\n",
       "      <th>2</th>\n",
       "      <td>42</td>\n",
       "      <td>neg_mean_absolute_error</td>\n",
       "      <td>0</td>\n",
       "      <td>0.737878</td>\n",
       "      <td>0.678060</td>\n",
       "      <td>0.641749</td>\n",
       "      <td>0.570029</td>\n",
       "      <td>0.707969</td>\n",
       "    </tr>\n",
       "    <tr>\n",
       "      <th>5</th>\n",
       "      <td>20</td>\n",
       "      <td>neg_mean_poisson_deviance</td>\n",
       "      <td>5</td>\n",
       "      <td>0.834657</td>\n",
       "      <td>0.577601</td>\n",
       "      <td>0.768831</td>\n",
       "      <td>0.376017</td>\n",
       "      <td>0.706129</td>\n",
       "    </tr>\n",
       "    <tr>\n",
       "      <th>3</th>\n",
       "      <td>20</td>\n",
       "      <td>neg_mean_absolute_error</td>\n",
       "      <td>5</td>\n",
       "      <td>0.781471</td>\n",
       "      <td>0.579989</td>\n",
       "      <td>0.697678</td>\n",
       "      <td>0.388175</td>\n",
       "      <td>0.680730</td>\n",
       "    </tr>\n",
       "    <tr>\n",
       "      <th>4</th>\n",
       "      <td>20</td>\n",
       "      <td>neg_mean_poisson_deviance</td>\n",
       "      <td>0</td>\n",
       "      <td>0.806848</td>\n",
       "      <td>0.530908</td>\n",
       "      <td>0.730936</td>\n",
       "      <td>0.394199</td>\n",
       "      <td>0.668878</td>\n",
       "    </tr>\n",
       "    <tr>\n",
       "      <th>7</th>\n",
       "      <td>20</td>\n",
       "      <td>neg_mean_gamma_deviance</td>\n",
       "      <td>5</td>\n",
       "      <td>0.771448</td>\n",
       "      <td>0.538809</td>\n",
       "      <td>0.684948</td>\n",
       "      <td>0.404180</td>\n",
       "      <td>0.655128</td>\n",
       "    </tr>\n",
       "    <tr>\n",
       "      <th>6</th>\n",
       "      <td>20</td>\n",
       "      <td>neg_mean_gamma_deviance</td>\n",
       "      <td>0</td>\n",
       "      <td>0.805310</td>\n",
       "      <td>0.498338</td>\n",
       "      <td>0.728790</td>\n",
       "      <td>0.374711</td>\n",
       "      <td>0.651824</td>\n",
       "    </tr>\n",
       "    <tr>\n",
       "      <th>2</th>\n",
       "      <td>20</td>\n",
       "      <td>neg_mean_absolute_error</td>\n",
       "      <td>0</td>\n",
       "      <td>0.747192</td>\n",
       "      <td>0.550785</td>\n",
       "      <td>0.653016</td>\n",
       "      <td>0.430836</td>\n",
       "      <td>0.648988</td>\n",
       "    </tr>\n",
       "    <tr>\n",
       "      <th>0</th>\n",
       "      <td>20</td>\n",
       "      <td>r2</td>\n",
       "      <td>0</td>\n",
       "      <td>0.768527</td>\n",
       "      <td>0.490213</td>\n",
       "      <td>0.679986</td>\n",
       "      <td>0.327372</td>\n",
       "      <td>0.629370</td>\n",
       "    </tr>\n",
       "    <tr>\n",
       "      <th>1</th>\n",
       "      <td>3</td>\n",
       "      <td>r2</td>\n",
       "      <td>5</td>\n",
       "      <td>0.803494</td>\n",
       "      <td>0.375427</td>\n",
       "      <td>0.727450</td>\n",
       "      <td>0.312634</td>\n",
       "      <td>0.589461</td>\n",
       "    </tr>\n",
       "    <tr>\n",
       "      <th>4</th>\n",
       "      <td>3</td>\n",
       "      <td>neg_mean_poisson_deviance</td>\n",
       "      <td>0</td>\n",
       "      <td>0.791769</td>\n",
       "      <td>0.345769</td>\n",
       "      <td>0.711658</td>\n",
       "      <td>0.275481</td>\n",
       "      <td>0.568769</td>\n",
       "    </tr>\n",
       "    <tr>\n",
       "      <th>5</th>\n",
       "      <td>3</td>\n",
       "      <td>neg_mean_poisson_deviance</td>\n",
       "      <td>5</td>\n",
       "      <td>0.810418</td>\n",
       "      <td>0.300439</td>\n",
       "      <td>0.737284</td>\n",
       "      <td>0.270472</td>\n",
       "      <td>0.555429</td>\n",
       "    </tr>\n",
       "    <tr>\n",
       "      <th>0</th>\n",
       "      <td>3</td>\n",
       "      <td>r2</td>\n",
       "      <td>0</td>\n",
       "      <td>0.815899</td>\n",
       "      <td>0.273882</td>\n",
       "      <td>0.743988</td>\n",
       "      <td>0.259820</td>\n",
       "      <td>0.544891</td>\n",
       "    </tr>\n",
       "    <tr>\n",
       "      <th>7</th>\n",
       "      <td>3</td>\n",
       "      <td>neg_mean_gamma_deviance</td>\n",
       "      <td>5</td>\n",
       "      <td>0.817642</td>\n",
       "      <td>0.260364</td>\n",
       "      <td>0.746249</td>\n",
       "      <td>0.239658</td>\n",
       "      <td>0.539003</td>\n",
       "    </tr>\n",
       "    <tr>\n",
       "      <th>3</th>\n",
       "      <td>3</td>\n",
       "      <td>neg_mean_absolute_error</td>\n",
       "      <td>5</td>\n",
       "      <td>0.746731</td>\n",
       "      <td>0.199563</td>\n",
       "      <td>0.653299</td>\n",
       "      <td>0.224187</td>\n",
       "      <td>0.473147</td>\n",
       "    </tr>\n",
       "    <tr>\n",
       "      <th>6</th>\n",
       "      <td>3</td>\n",
       "      <td>neg_mean_gamma_deviance</td>\n",
       "      <td>0</td>\n",
       "      <td>0.776629</td>\n",
       "      <td>0.035188</td>\n",
       "      <td>0.693282</td>\n",
       "      <td>0.103459</td>\n",
       "      <td>0.405909</td>\n",
       "    </tr>\n",
       "    <tr>\n",
       "      <th>2</th>\n",
       "      <td>3</td>\n",
       "      <td>neg_mean_absolute_error</td>\n",
       "      <td>0</td>\n",
       "      <td>0.797005</td>\n",
       "      <td>0.010216</td>\n",
       "      <td>0.718325</td>\n",
       "      <td>0.201359</td>\n",
       "      <td>0.403610</td>\n",
       "    </tr>\n",
       "  </tbody>\n",
       "</table>\n",
       "</div>"
      ],
      "text/plain": [
       "   random_seed                      score  fold     Q2LOO    R2Pred     rm2tr  \\\n",
       "1           42                         r2     5  0.775126  0.784713  0.690070   \n",
       "0           42                         r2     0  0.757618  0.752780  0.667870   \n",
       "7           42    neg_mean_gamma_deviance     5  0.735957  0.762723  0.639701   \n",
       "4           42  neg_mean_poisson_deviance     0  0.756455  0.736562  0.666869   \n",
       "1           20                         r2     5  0.793502  0.683795  0.713147   \n",
       "5           42  neg_mean_poisson_deviance     5  0.762990  0.683353  0.674500   \n",
       "3           42    neg_mean_absolute_error     5  0.740237  0.696704  0.644529   \n",
       "6           42    neg_mean_gamma_deviance     0  0.747921  0.672154  0.654827   \n",
       "2           42    neg_mean_absolute_error     0  0.737878  0.678060  0.641749   \n",
       "5           20  neg_mean_poisson_deviance     5  0.834657  0.577601  0.768831   \n",
       "3           20    neg_mean_absolute_error     5  0.781471  0.579989  0.697678   \n",
       "4           20  neg_mean_poisson_deviance     0  0.806848  0.530908  0.730936   \n",
       "7           20    neg_mean_gamma_deviance     5  0.771448  0.538809  0.684948   \n",
       "6           20    neg_mean_gamma_deviance     0  0.805310  0.498338  0.728790   \n",
       "2           20    neg_mean_absolute_error     0  0.747192  0.550785  0.653016   \n",
       "0           20                         r2     0  0.768527  0.490213  0.679986   \n",
       "1            3                         r2     5  0.803494  0.375427  0.727450   \n",
       "4            3  neg_mean_poisson_deviance     0  0.791769  0.345769  0.711658   \n",
       "5            3  neg_mean_poisson_deviance     5  0.810418  0.300439  0.737284   \n",
       "0            3                         r2     0  0.815899  0.273882  0.743988   \n",
       "7            3    neg_mean_gamma_deviance     5  0.817642  0.260364  0.746249   \n",
       "3            3    neg_mean_absolute_error     5  0.746731  0.199563  0.653299   \n",
       "6            3    neg_mean_gamma_deviance     0  0.776629  0.035188  0.693282   \n",
       "2            3    neg_mean_absolute_error     0  0.797005  0.010216  0.718325   \n",
       "\n",
       "      rm2ts   Average  \n",
       "1  0.702300  0.779919  \n",
       "0  0.645750  0.755199  \n",
       "7  0.660424  0.749340  \n",
       "4  0.623025  0.746509  \n",
       "1  0.507478  0.738648  \n",
       "5  0.583284  0.723171  \n",
       "3  0.572917  0.718471  \n",
       "6  0.560180  0.710038  \n",
       "2  0.570029  0.707969  \n",
       "5  0.376017  0.706129  \n",
       "3  0.388175  0.680730  \n",
       "4  0.394199  0.668878  \n",
       "7  0.404180  0.655128  \n",
       "6  0.374711  0.651824  \n",
       "2  0.430836  0.648988  \n",
       "0  0.327372  0.629370  \n",
       "1  0.312634  0.589461  \n",
       "4  0.275481  0.568769  \n",
       "5  0.270472  0.555429  \n",
       "0  0.259820  0.544891  \n",
       "7  0.239658  0.539003  \n",
       "3  0.224187  0.473147  \n",
       "6  0.103459  0.405909  \n",
       "2  0.201359  0.403610  "
      ]
     },
     "execution_count": 9,
     "metadata": {},
     "output_type": "execute_result"
    }
   ],
   "source": [
    "fd"
   ]
  },
  {
   "cell_type": "code",
   "execution_count": 18,
   "id": "6e877295",
   "metadata": {},
   "outputs": [],
   "source": [
    "fd.to_csv('xyz.csv', index=False) #change output file name"
   ]
  },
  {
   "cell_type": "code",
   "execution_count": null,
   "id": "2c96914e",
   "metadata": {},
   "outputs": [],
   "source": []
  }
 ],
 "metadata": {
  "kernelspec": {
   "display_name": "Python 3 (ipykernel)",
   "language": "python",
   "name": "python3"
  },
  "language_info": {
   "codemirror_mode": {
    "name": "ipython",
    "version": 3
   },
   "file_extension": ".py",
   "mimetype": "text/x-python",
   "name": "python",
   "nbconvert_exporter": "python",
   "pygments_lexer": "ipython3",
   "version": "3.9.7"
  }
 },
 "nbformat": 4,
 "nbformat_minor": 5
}
